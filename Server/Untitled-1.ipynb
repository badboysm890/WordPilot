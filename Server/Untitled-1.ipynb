{
 "cells": [
  {
   "cell_type": "code",
   "execution_count": 1,
   "metadata": {},
   "outputs": [
    {
     "ename": "ModuleNotFoundError",
     "evalue": "No module named 'fairseq'",
     "output_type": "error",
     "traceback": [
      "\u001b[0;31m---------------------------------------------------------------------------\u001b[0m",
      "\u001b[0;31mModuleNotFoundError\u001b[0m                       Traceback (most recent call last)",
      "Cell \u001b[0;32mIn[1], line 6\u001b[0m\n\u001b[1;32m      3\u001b[0m \u001b[39mfrom\u001b[39;00m \u001b[39mpathlib\u001b[39;00m \u001b[39mimport\u001b[39;00m Path\n\u001b[1;32m      5\u001b[0m \u001b[39mimport\u001b[39;00m \u001b[39mIPython\u001b[39;00m\u001b[39m.\u001b[39;00m\u001b[39mdisplay\u001b[39;00m \u001b[39mas\u001b[39;00m \u001b[39mipd\u001b[39;00m\n\u001b[0;32m----> 6\u001b[0m \u001b[39mfrom\u001b[39;00m \u001b[39mfairseq\u001b[39;00m \u001b[39mimport\u001b[39;00m hub_utils\n\u001b[1;32m      7\u001b[0m \u001b[39mfrom\u001b[39;00m \u001b[39mfairseq\u001b[39;00m\u001b[39m.\u001b[39;00m\u001b[39mcheckpoint_utils\u001b[39;00m \u001b[39mimport\u001b[39;00m load_model_ensemble_and_task_from_hf_hub\n\u001b[1;32m      8\u001b[0m \u001b[39mfrom\u001b[39;00m \u001b[39mfairseq\u001b[39;00m\u001b[39m.\u001b[39;00m\u001b[39mmodels\u001b[39;00m\u001b[39m.\u001b[39;00m\u001b[39mspeech_to_text\u001b[39;00m\u001b[39m.\u001b[39;00m\u001b[39mhub_interface\u001b[39;00m \u001b[39mimport\u001b[39;00m S2THubInterface\n",
      "\u001b[0;31mModuleNotFoundError\u001b[0m: No module named 'fairseq'"
     ]
    }
   ],
   "source": [
    "import json\n",
    "import os\n",
    "from pathlib import Path\n",
    "\n",
    "import IPython.display as ipd\n",
    "from fairseq import hub_utils\n",
    "from fairseq.checkpoint_utils import load_model_ensemble_and_task_from_hf_hub\n",
    "from fairseq.models.speech_to_text.hub_interface import S2THubInterface\n",
    "from fairseq.models.text_to_speech import CodeHiFiGANVocoder\n",
    "from fairseq.models.text_to_speech.hub_interface import VocoderHubInterface\n",
    "\n",
    "from huggingface_hub import snapshot_download\n",
    "import torchaudio\n",
    "\n",
    "cache_dir = os.getenv(\"HUGGINGFACE_HUB_CACHE\")\n",
    "\n",
    "#models, cfg, task = load_model_ensemble_and_task_from_hf_hub(\n",
    "#     \"facebook/xm_transformer_s2ut_800m-es-en-st-asr-bt_h1_2022\",\n",
    "#     arg_overrides={\"config_yaml\": \"config.yaml\", \"task\": \"speech_to_text\"},\n",
    "#     cache_dir=cache_dir,\n",
    "# )\n",
    "# model = models[0].cpu()\n",
    "# cfg[\"task\"].cpu = True\n",
    "# generator = task.build_generator([model], cfg)\n",
    "\n",
    "\n",
    "# # requires 16000Hz mono channel audio\n",
    "# audio, _ = torchaudio.load(\"/Users/lpw/git/api-inference-community/docker_images/fairseq/tests/samples/sample2.flac\")\n",
    "\n",
    "# sample = S2THubInterface.get_model_input(task, audio)\n",
    "# unit = S2THubInterface.get_prediction(task, model, generator, sample)\n",
    "\n",
    "# speech synthesis           \n",
    "library_name = \"fairseq\"\n",
    "cache_dir = (\n",
    "    cache_dir or (Path.home() / \".cache\" / library_name).as_posix()\n",
    ")\n",
    "cache_dir = snapshot_download(\n",
    "    f\"facebook/unit_hifigan_mhubert_vp_en_es_fr_it3_400k_layer11_km1000_lj_dur\", cache_dir=cache_dir, library_name=library_name\n",
    ")\n",
    "\n",
    "x = hub_utils.from_pretrained(\n",
    "    cache_dir,\n",
    "    \"model.pt\",\n",
    "    \".\",\n",
    "    archive_map=CodeHiFiGANVocoder.hub_models(),\n",
    "    config_yaml=\"config.json\",\n",
    "    fp16=False,\n",
    "    is_vocoder=True,\n",
    ")\n",
    "\n",
    "with open(f\"{x['args']['data']}/config.json\") as f:\n",
    "    vocoder_cfg = json.load(f)\n",
    "assert (\n",
    "    len(x[\"args\"][\"model_path\"]) == 1\n",
    "), \"Too many vocoder models in the input\"\n",
    "\n",
    "vocoder = CodeHiFiGANVocoder(x[\"args\"][\"model_path\"][0], vocoder_cfg)\n",
    "tts_model = VocoderHubInterface(vocoder_cfg, vocoder)\n",
    "\n",
    "tts_sample = tts_model.get_model_input(unit)\n",
    "wav, sr = tts_model.get_prediction(tts_sample)\n",
    "\n",
    "ipd.Audio(wav, rate=sr)\n"
   ]
  },
  {
   "cell_type": "code",
   "execution_count": null,
   "metadata": {},
   "outputs": [],
   "source": []
  }
 ],
 "metadata": {
  "kernelspec": {
   "display_name": "Python 3",
   "language": "python",
   "name": "python3"
  },
  "language_info": {
   "codemirror_mode": {
    "name": "ipython",
    "version": 3
   },
   "file_extension": ".py",
   "mimetype": "text/x-python",
   "name": "python",
   "nbconvert_exporter": "python",
   "pygments_lexer": "ipython3",
   "version": "3.9.13+"
  },
  "orig_nbformat": 4,
  "vscode": {
   "interpreter": {
    "hash": "335bdf4b832977a530b97e682274847997bc0b72282ef8b722025af34081fb02"
   }
  }
 },
 "nbformat": 4,
 "nbformat_minor": 2
}
