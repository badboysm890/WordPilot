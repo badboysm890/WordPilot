{
 "cells": [
  {
   "cell_type": "code",
   "execution_count": 15,
   "metadata": {},
   "outputs": [
    {
     "name": "stdout",
     "output_type": "stream",
     "text": [
      "[youtube] xBMXSKXIlXs: Downloading webpage\n",
      "[youtube] xBMXSKXIlXs: Downloading android player API JSON\n",
      "[info] xBMXSKXIlXs: Downloading 1 format(s): 140\n",
      "[download] Destination: audio.mp3\n",
      "[download] 100% of 8.59MiB in 00:00                      \n",
      "[FixupM4a] Correcting container of \"audio.mp3\"\n"
     ]
    }
   ],
   "source": [
    "import whisper\n",
    "from pydub import AudioSegment\n",
    "import os\n",
    "import torch\n",
    "from transformers import T5ForConditionalGeneration,T5Tokenizer\n",
    "import torch\n",
    "import os\n",
    "from __future__ import unicode_literals\n",
    "import os\n",
    "from GoogleImageScraper import GoogleImageScraper\n",
    "from patch import webdriver_executable\n",
    "\n",
    "\n",
    "url = \"https://www.youtube.com/watch?v=xBMXSKXIlXs&t=429s\"\n",
    "\n",
    "# delete the audio file if it exists\n",
    "if os.path.exists(\"audio.mp3\"):\n",
    "    os.remove(\"audio.mp3\")\n",
    "# use youtube_dl to download the video\n",
    "os.system(\"yt-dlp -f 140 -o audio.mp3 \" + url)\n",
    "\n",
    "# wait until the audio file is downloaded\n",
    "while not os.path.exists(\"audio.mp3\"):\n",
    "    continue\n",
    "\n",
    "model = whisper.load_model(\"base\")\n",
    "\n",
    "if os.path.exists(\"segments\"):\n",
    "    os.system(\"rm -rf segments\")\n",
    "\n",
    "audio = AudioSegment.from_file(\"audio.mp3\")\n",
    "segment_length = 30 * 1000\n",
    "\n",
    "if not os.path.exists(\"segments\"):\n",
    "    os.makedirs(\"segments\")\n",
    "\n",
    "for i, segment in enumerate(audio[::segment_length]):\n",
    "    segment.export(f\"segments/{i}.mp3\", format=\"mp3\")\n",
    "\n",
    "orginal_text = \"\"\n",
    "audio_list = os.listdir(\"segments\")\n",
    "headings = []\n",
    "orginal_texts = []\n",
    "dataForWeb = {\n",
    "    \n",
    "}\n",
    "\n",
    "device = torch.device(\"cuda\" if torch.cuda.is_available() else \"cpu\")\n",
    "models = T5ForConditionalGeneration.from_pretrained(\"Michau/t5-base-en-generate-headline\")\n",
    "tokenizer = T5Tokenizer.from_pretrained(\"Michau/t5-base-en-generate-headline\")\n",
    "models = models.to(device)\n"
   ]
  },
  {
   "cell_type": "code",
   "execution_count": 16,
   "metadata": {},
   "outputs": [],
   "source": [
    "# storing output in json file\n",
    "\n",
    "\n",
    "for i  in range(len(audio_list)):\n",
    "   audio = whisper.load_audio(f\"segments/{i}.mp3\")\n",
    "   audio = whisper.pad_or_trim(audio)\n",
    "   mel = whisper.log_mel_spectrogram(audio).to(model.device)\n",
    "   _, probs = model.detect_language(mel)\n",
    "   options = whisper.DecodingOptions(fp16 = False)\n",
    "   result = whisper.decode(model, mel, options)\n",
    "   \n",
    "\n",
    "#    building the headline\n",
    "   text =  \"headline: \" + result.text\n",
    "   max_len = 256\n",
    "   encoding = tokenizer.encode_plus(text, return_tensors = \"pt\")\n",
    "   input_ids = encoding[\"input_ids\"].to(device)\n",
    "   attention_masks = encoding[\"attention_mask\"].to(device)\n",
    "   beam_outputs = models.generate(\n",
    "       input_ids = input_ids,\n",
    "       attention_mask = attention_masks,\n",
    "       max_length = 64,\n",
    "       num_beams = 3,\n",
    "       early_stopping = True,\n",
    "   )\n",
    "   results = tokenizer.decode(beam_outputs[0])\n",
    "   headings.append(results) \n",
    "   dataForWeb[i] = {\n",
    "        \"heading\" : results,\n",
    "        \"text\" : result.text\n",
    "    }\n",
    "   \n",
    "   orginal_text += \"\\n\"\n",
    "   orginal_text += \"<h3>\"+results + \"</h3>\"\n",
    "   # new line\n",
    "   orginal_text += \"\\n\"\n",
    "   orginal_text += \"<p>\"+result.text+ \"</p>\"\n",
    "\n",
    "with open(\"text.txt\", \"w\") as f:\n",
    "    f.write(orginal_text)"
   ]
  },
  {
   "cell_type": "code",
   "execution_count": 17,
   "metadata": {},
   "outputs": [
    {
     "name": "stdout",
     "output_type": "stream",
     "text": [
      "{0: {'heading': '<pad> Goviy HR - What Is It All About?</s>', 'text': \"Hello all, I'm Guy 3 and I'm leading the HR team at Goviy over here. So to talk about my experience in Goviy to sum it up in one word, I would definitely say that it's fulfilling. And one thing I noticed here at Goviy is if you come here, work hard, be committed, the\"}, 1: {'heading': '<pad> The Learning Never Stops at Govi</s>', 'text': \"And one element in Govi which I have discovered till date is that the learning never stops at Govi. And also Govi gives you a good platform to explore and try out things and which I am really happy that you know each one is given this opportunity. And I would definitely say that Govi's environment is positive, friendly.\"}, 2: {'heading': \"<pad> Govie's 9th Year</s>\", 'text': \"series that is Ed to come and I wish success but nothing to Govie. Thank you so much. Hi, I'm Varsanth, Business Unit Headed Govie. Today Govie is stepping into its 9th year. My heartful wishes to Govie and our entire team for the successful completion of eight years. I joined Govie when it was a four-member team and now the employee count is around 200. Similarly, the user base was around 15 to 20,000 I guess and now we have reached more than\"}, 3: {'heading': \"<pad> TV's 8th Year Ending</s>\", 'text': \"across the globe. And I am super proud to be part of this journey and to grow along with the TV. Once again I wish all the goodby members a very happy anniversary for the TV's 8th year conclusion and I wish we all will grow together along with the group. Thank you. Hi, I am Muruvannam and the end of the development team. This is a pace where we made not of the product initiatives like aggregate, high-end,\"}, 4: {'heading': '<pad> 8th Gradients, Bye Bye!</s>', 'text': \"company, a necessary team. Here we shared lot of good memories from our co-founders and other team members. I am probably sure that we are impacted lot of school lives. Happy 8th and 8th gradients, bye bye. Hi team, congratulations and hearty wishes to each and every one of you for being part of this wonderful journey with Gooby. It's been 8 years now and when we look back, all the hardships and struggles and challenges that we overcame was only possible because of\"}, 5: {'heading': '<pad> Adding Value to Our Learners</s>', 'text': 'to add value to our learners in each and every way possible. That is the mantra that we have followed with our heart and soul and that is the only thing which will make us go forward in the journey as well. So as we grow together, it comes with an additional responsibility of making sure that we add value to our learners and for all the stakeholders who has been part of our journey. So let us make sure that we are committing ourselves to their success which will really'}, 6: {'heading': '<pad> Success Together in This Journey</s>', 'text': 'success together in this journey. Thank you so much for being part of the movie. Hi all. If you go and ask somebody which is your favorite subject or what is your skill, okay. So most of them say typically physics math or I am pretty good in communication, I am pretty good in dancing or whatever it is. Okay that is how the common answer is. And if you ask one step further like why do you love them or what made you to love, okay.'}, 7: {'heading': '<pad> I Love Physics and Computer Science</s>', 'text': 'started that passion in their school days for the respective thing. It could be skill or it could be communication or it could be mostly a friend as well. Sometimes your friends inspire. So for me also it is like that. For example, I love physics, I love computer science. These two are my favorites and my love towards physics is because of my serve in the school'}, 8: {'heading': '<pad> What if You Collect All That People and Form a Company?</s>', 'text': 'it start me cumbersome when I started in the first year. So like that everybody will have some person. What if you collect all those people and form a company? That will have a huge impact on every individual. For example, in my case, those two inspirations or those two people have inspired and changed my personal life both in terms of economical status and in terms of confidence level.'}, 9: {'heading': '<pad> Start an NGO</s>', 'text': \"entire country's nature for it. So that is one important thing in our basic promise in which movie lives in. So this is why we are what we are. So the next fall-off question would be like then you could have started an NGO right why you want to start a company. That was a general question which people will ask me. But typically if I start an NGO what I have seen is like NGOs doesn't\"}, 10: {'heading': '<pad> NGOs - Why We Start As a Company</s>', 'text': 'in the world. NGOs generally attract contented people. If you want to make a real impact or a force-fast impact, you have to have the smart people in the team. That is where instead of going for a NGO type of thing, we started as a company. So this basic ethos is what makes us to care for the people or the customers or the students or the learners'}, 11: {'heading': '<pad> Bouvies - Step and Take Care of Our Students</s>', 'text': 'step and take care of our students. That is one of the key things which we do. So these are the two basic things which are these are the basic two purpose in which Bouvies build on. So next is Lega. What are the attributes that we expect from Bouvien? So I would say two simple two things. One is solving problems or problem solving. The second one is learnability. So this is this I put for myself. So I am sharing that with'}, 12: {'heading': '<pad> Learnability - A Key Skill</s>', 'text': \"I mean as a startup you don't have a choice, you have to hustle and you have to solve. And you have to grow as well, that's how it is. And the learnability is a key skill which is often overlooked. As we scale any company or as we scale in our life, we need to learn a lot of things. Those who don't do that get stagnant and we don't want stagnant people in the movie. So you have to scale and you have to scale the company.\"}, 13: {'heading': '<pad> We Are Looking For More Young Leaders</s>', 'text': \"upcoming years and we are looking for more leaders which means that there are plenty of opportunities out there for everyone. It doesn't need to be an experienced person like that. So if you take the average it will be around 24-25 that's how our company's average age would be. Exor excluding me or Bala okay. So that is how it is. So we want to build more young leaders who's committed, who is ready to solve a problem and who is to learn and help others as well. So the\"}, 14: {'heading': '<pad> The Learnability of the Peoples</s>', 'text': 'For example, it does not, if we are sales, it is not just about the sales learning or if we are a tech guy, it is not just about tech. The learnability is more towards the soft skills as well, like as we grow as a team leader are you able to manage the thing? How do you resolve the conflicts? How do you scale the expectations with respect to the company or with respect to the market? These are also other aspects that we look into it. So these are the two attributes which we want to build guvian in terms of the peoples.'}, 15: {'heading': '<pad> Women Have an Unfair Advantage Than Men</s>', 'text': 'the second is people. The last point which I want to stress is like naturally women have an unfair advantage than men because they are smart dinners. The reason why I am saying this is so loud is I have sat with our co-founders today and she has beaten me in all the cases, hands down. So by that way I know that women are way better than men in terms of thinking and problem'}, 16: {'heading': '<pad> You Girls Are Better Than That</s>', 'text': \"and problem solving, you girls are better than that. And because of that, in Guvi, you always have an unfair advantage than men. So we want more women leaders. So this is exclusively for the women employees. You have an opportunity to scale yourself and help us. So that is an option given to you. It's not an opportunity. It's an option you want to choose it or not, that's fine. Because we are not the person to give an opportunity. This is like a, you decide and you pick that.\"}, 17: {'heading': '<pad> You As a Leader</s>', 'text': \"yourself as a leader. This is a third point which I want to come and get during this time. And in the overall aspect, one of the favorite dialogues which I look into movies is like the Batman's thing. It's not what underneath defines you, it's what you do defines who you are.\"}, 18: {'heading': '<pad> Pay It Forward</s>', 'text': 'it forward. So go and search for the word pay it forward. That is how we want to build the Bibi and we want to grow together with everyone. Thank you all.'}}\n"
     ]
    }
   ],
   "source": [
    "print(dataForWeb)"
   ]
  },
  {
   "cell_type": "code",
   "execution_count": null,
   "metadata": {},
   "outputs": [],
   "source": []
  }
 ],
 "metadata": {
  "kernelspec": {
   "display_name": "Python 3",
   "language": "python",
   "name": "python3"
  },
  "language_info": {
   "codemirror_mode": {
    "name": "ipython",
    "version": 3
   },
   "file_extension": ".py",
   "mimetype": "text/x-python",
   "name": "python",
   "nbconvert_exporter": "python",
   "pygments_lexer": "ipython3",
   "version": "3.9.13+ (heads/3.9:eff4aa5, Jul 20 2022, 11:59:05) \n[Clang 13.1.6 (clang-1316.0.21.2.5)]"
  },
  "orig_nbformat": 4,
  "vscode": {
   "interpreter": {
    "hash": "335bdf4b832977a530b97e682274847997bc0b72282ef8b722025af34081fb02"
   }
  }
 },
 "nbformat": 4,
 "nbformat_minor": 2
}
